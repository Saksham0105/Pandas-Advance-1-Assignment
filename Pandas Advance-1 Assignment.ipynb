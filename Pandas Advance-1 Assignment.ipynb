{
 "cells": [
  {
   "cell_type": "markdown",
   "id": "525dd3cd-aaea-4566-8b9d-95fec896f99c",
   "metadata": {},
   "source": [
    "## Q1. List any five functions of the pandas library with execution."
   ]
  },
  {
   "cell_type": "markdown",
   "id": "d6cf4c7b-6d8e-4d0f-ba59-1af150182276",
   "metadata": {},
   "source": [
    "Ans :-"
   ]
  },
  {
   "cell_type": "markdown",
   "id": "c9b7aa5f-ab40-4ab5-9182-09e1170673a0",
   "metadata": {},
   "source": [
    "* **read_csv( ): -**"
   ]
  },
  {
   "cell_type": "code",
   "execution_count": 122,
   "id": "8eb63328-19bc-48a1-a054-08029ac91dd9",
   "metadata": {},
   "outputs": [],
   "source": [
    "import pandas as pd"
   ]
  },
  {
   "cell_type": "code",
   "execution_count": 123,
   "id": "c497160b-68f4-459f-b9f9-8c0e352c6fae",
   "metadata": {},
   "outputs": [],
   "source": [
    "data = pd.read_csv('services.csv')"
   ]
  },
  {
   "cell_type": "code",
   "execution_count": 124,
   "id": "1ca7e65d-5283-4412-9d9e-089321b6c7d1",
   "metadata": {},
   "outputs": [
    {
     "data": {
      "text/html": [
       "<div>\n",
       "<style scoped>\n",
       "    .dataframe tbody tr th:only-of-type {\n",
       "        vertical-align: middle;\n",
       "    }\n",
       "\n",
       "    .dataframe tbody tr th {\n",
       "        vertical-align: top;\n",
       "    }\n",
       "\n",
       "    .dataframe thead th {\n",
       "        text-align: right;\n",
       "    }\n",
       "</style>\n",
       "<table border=\"1\" class=\"dataframe\">\n",
       "  <thead>\n",
       "    <tr style=\"text-align: right;\">\n",
       "      <th></th>\n",
       "      <th>id</th>\n",
       "      <th>location_id</th>\n",
       "      <th>program_id</th>\n",
       "      <th>accepted_payments</th>\n",
       "      <th>alternate_name</th>\n",
       "      <th>application_process</th>\n",
       "      <th>audience</th>\n",
       "      <th>description</th>\n",
       "      <th>eligibility</th>\n",
       "      <th>email</th>\n",
       "      <th>...</th>\n",
       "      <th>interpretation_services</th>\n",
       "      <th>keywords</th>\n",
       "      <th>languages</th>\n",
       "      <th>name</th>\n",
       "      <th>required_documents</th>\n",
       "      <th>service_areas</th>\n",
       "      <th>status</th>\n",
       "      <th>wait_time</th>\n",
       "      <th>website</th>\n",
       "      <th>taxonomy_ids</th>\n",
       "    </tr>\n",
       "  </thead>\n",
       "  <tbody>\n",
       "    <tr>\n",
       "      <th>0</th>\n",
       "      <td>1</td>\n",
       "      <td>1</td>\n",
       "      <td>NaN</td>\n",
       "      <td>NaN</td>\n",
       "      <td>NaN</td>\n",
       "      <td>Walk in or apply by phone.</td>\n",
       "      <td>Older adults age 55 or over, ethnic minorities...</td>\n",
       "      <td>A walk-in center for older adults that provide...</td>\n",
       "      <td>Age 55 or over for most programs, age 60 or ov...</td>\n",
       "      <td>NaN</td>\n",
       "      <td>...</td>\n",
       "      <td>NaN</td>\n",
       "      <td>ADULT PROTECTION AND CARE SERVICES, Meal Sites...</td>\n",
       "      <td>NaN</td>\n",
       "      <td>Fair Oaks Adult Activity Center</td>\n",
       "      <td>NaN</td>\n",
       "      <td>Colma</td>\n",
       "      <td>active</td>\n",
       "      <td>No wait.</td>\n",
       "      <td>NaN</td>\n",
       "      <td>NaN</td>\n",
       "    </tr>\n",
       "    <tr>\n",
       "      <th>1</th>\n",
       "      <td>2</td>\n",
       "      <td>2</td>\n",
       "      <td>NaN</td>\n",
       "      <td>NaN</td>\n",
       "      <td>NaN</td>\n",
       "      <td>Apply by phone for an appointment.</td>\n",
       "      <td>Residents of San Mateo County age 55 or over</td>\n",
       "      <td>Provides training and job placement to eligibl...</td>\n",
       "      <td>Age 55 or over, county resident and willing an...</td>\n",
       "      <td>NaN</td>\n",
       "      <td>...</td>\n",
       "      <td>NaN</td>\n",
       "      <td>EMPLOYMENT/TRAINING SERVICES, Job Development,...</td>\n",
       "      <td>NaN</td>\n",
       "      <td>Second Career Employment Program</td>\n",
       "      <td>NaN</td>\n",
       "      <td>San Mateo County</td>\n",
       "      <td>active</td>\n",
       "      <td>Varies.</td>\n",
       "      <td>NaN</td>\n",
       "      <td>NaN</td>\n",
       "    </tr>\n",
       "    <tr>\n",
       "      <th>2</th>\n",
       "      <td>3</td>\n",
       "      <td>3</td>\n",
       "      <td>NaN</td>\n",
       "      <td>NaN</td>\n",
       "      <td>NaN</td>\n",
       "      <td>Phone for information (403-4300 Ext. 4322).</td>\n",
       "      <td>Older adults age 55 or over who can benefit fr...</td>\n",
       "      <td>Offers supportive counseling services to San M...</td>\n",
       "      <td>Resident of San Mateo County age 55 or over</td>\n",
       "      <td>NaN</td>\n",
       "      <td>...</td>\n",
       "      <td>NaN</td>\n",
       "      <td>Geriatric Counseling, Older Adults, Gay, Lesbi...</td>\n",
       "      <td>NaN</td>\n",
       "      <td>Senior Peer Counseling</td>\n",
       "      <td>NaN</td>\n",
       "      <td>San Mateo County</td>\n",
       "      <td>active</td>\n",
       "      <td>Varies.</td>\n",
       "      <td>NaN</td>\n",
       "      <td>NaN</td>\n",
       "    </tr>\n",
       "    <tr>\n",
       "      <th>3</th>\n",
       "      <td>4</td>\n",
       "      <td>4</td>\n",
       "      <td>NaN</td>\n",
       "      <td>NaN</td>\n",
       "      <td>NaN</td>\n",
       "      <td>Apply by phone.</td>\n",
       "      <td>Parents, children, families with problems of c...</td>\n",
       "      <td>Provides supervised visitation services and a ...</td>\n",
       "      <td>None</td>\n",
       "      <td>NaN</td>\n",
       "      <td>...</td>\n",
       "      <td>NaN</td>\n",
       "      <td>INDIVIDUAL AND FAMILY DEVELOPMENT SERVICES, Gr...</td>\n",
       "      <td>NaN</td>\n",
       "      <td>Family Visitation Center</td>\n",
       "      <td>NaN</td>\n",
       "      <td>San Mateo County</td>\n",
       "      <td>active</td>\n",
       "      <td>No wait.</td>\n",
       "      <td>NaN</td>\n",
       "      <td>NaN</td>\n",
       "    </tr>\n",
       "    <tr>\n",
       "      <th>4</th>\n",
       "      <td>5</td>\n",
       "      <td>5</td>\n",
       "      <td>NaN</td>\n",
       "      <td>NaN</td>\n",
       "      <td>NaN</td>\n",
       "      <td>Phone for information.</td>\n",
       "      <td>Low-income working families with children tran...</td>\n",
       "      <td>Provides fixed 8% short term loans to eligible...</td>\n",
       "      <td>Eligibility: Low-income family with legal cust...</td>\n",
       "      <td>NaN</td>\n",
       "      <td>...</td>\n",
       "      <td>NaN</td>\n",
       "      <td>COMMUNITY SERVICES, Speakers, Automobile Loans</td>\n",
       "      <td>NaN</td>\n",
       "      <td>Economic Self-Sufficiency Program</td>\n",
       "      <td>NaN</td>\n",
       "      <td>San Mateo County</td>\n",
       "      <td>active</td>\n",
       "      <td>NaN</td>\n",
       "      <td>NaN</td>\n",
       "      <td>NaN</td>\n",
       "    </tr>\n",
       "  </tbody>\n",
       "</table>\n",
       "<p>5 rows × 22 columns</p>\n",
       "</div>"
      ],
      "text/plain": [
       "   id  location_id  program_id accepted_payments alternate_name  \\\n",
       "0   1            1         NaN               NaN            NaN   \n",
       "1   2            2         NaN               NaN            NaN   \n",
       "2   3            3         NaN               NaN            NaN   \n",
       "3   4            4         NaN               NaN            NaN   \n",
       "4   5            5         NaN               NaN            NaN   \n",
       "\n",
       "                           application_process  \\\n",
       "0                   Walk in or apply by phone.   \n",
       "1           Apply by phone for an appointment.   \n",
       "2  Phone for information (403-4300 Ext. 4322).   \n",
       "3                              Apply by phone.   \n",
       "4                       Phone for information.   \n",
       "\n",
       "                                            audience  \\\n",
       "0  Older adults age 55 or over, ethnic minorities...   \n",
       "1       Residents of San Mateo County age 55 or over   \n",
       "2  Older adults age 55 or over who can benefit fr...   \n",
       "3  Parents, children, families with problems of c...   \n",
       "4  Low-income working families with children tran...   \n",
       "\n",
       "                                         description  \\\n",
       "0  A walk-in center for older adults that provide...   \n",
       "1  Provides training and job placement to eligibl...   \n",
       "2  Offers supportive counseling services to San M...   \n",
       "3  Provides supervised visitation services and a ...   \n",
       "4  Provides fixed 8% short term loans to eligible...   \n",
       "\n",
       "                                         eligibility email  ...  \\\n",
       "0  Age 55 or over for most programs, age 60 or ov...   NaN  ...   \n",
       "1  Age 55 or over, county resident and willing an...   NaN  ...   \n",
       "2        Resident of San Mateo County age 55 or over   NaN  ...   \n",
       "3                                               None   NaN  ...   \n",
       "4  Eligibility: Low-income family with legal cust...   NaN  ...   \n",
       "\n",
       "  interpretation_services                                           keywords  \\\n",
       "0                     NaN  ADULT PROTECTION AND CARE SERVICES, Meal Sites...   \n",
       "1                     NaN  EMPLOYMENT/TRAINING SERVICES, Job Development,...   \n",
       "2                     NaN  Geriatric Counseling, Older Adults, Gay, Lesbi...   \n",
       "3                     NaN  INDIVIDUAL AND FAMILY DEVELOPMENT SERVICES, Gr...   \n",
       "4                     NaN     COMMUNITY SERVICES, Speakers, Automobile Loans   \n",
       "\n",
       "  languages                               name required_documents  \\\n",
       "0       NaN    Fair Oaks Adult Activity Center                NaN   \n",
       "1       NaN   Second Career Employment Program                NaN   \n",
       "2       NaN             Senior Peer Counseling                NaN   \n",
       "3       NaN           Family Visitation Center                NaN   \n",
       "4       NaN  Economic Self-Sufficiency Program                NaN   \n",
       "\n",
       "      service_areas  status wait_time website taxonomy_ids  \n",
       "0             Colma  active  No wait.     NaN          NaN  \n",
       "1  San Mateo County  active   Varies.     NaN          NaN  \n",
       "2  San Mateo County  active   Varies.     NaN          NaN  \n",
       "3  San Mateo County  active  No wait.     NaN          NaN  \n",
       "4  San Mateo County  active       NaN     NaN          NaN  \n",
       "\n",
       "[5 rows x 22 columns]"
      ]
     },
     "execution_count": 124,
     "metadata": {},
     "output_type": "execute_result"
    }
   ],
   "source": [
    "data.head()"
   ]
  },
  {
   "cell_type": "markdown",
   "id": "df92da63-f556-4d59-b672-5b441a28417e",
   "metadata": {},
   "source": [
    "* **head( ) :-**"
   ]
  },
  {
   "cell_type": "code",
   "execution_count": 125,
   "id": "66f4d5c6-98b5-4cab-a453-40abe24973a3",
   "metadata": {},
   "outputs": [],
   "source": [
    "import pandas as pd"
   ]
  },
  {
   "cell_type": "code",
   "execution_count": 126,
   "id": "068741f3-98a2-4db0-8333-ecda1821933f",
   "metadata": {},
   "outputs": [],
   "source": [
    "data = pd.DataFrame({'A': [1, 2, 3, 4, 5], 'B': ['a', 'b', 'c', 'd', 'e']})"
   ]
  },
  {
   "cell_type": "code",
   "execution_count": 127,
   "id": "a723a9c7-ec8b-4c14-add3-57298cb3c0dd",
   "metadata": {},
   "outputs": [
    {
     "data": {
      "text/html": [
       "<div>\n",
       "<style scoped>\n",
       "    .dataframe tbody tr th:only-of-type {\n",
       "        vertical-align: middle;\n",
       "    }\n",
       "\n",
       "    .dataframe tbody tr th {\n",
       "        vertical-align: top;\n",
       "    }\n",
       "\n",
       "    .dataframe thead th {\n",
       "        text-align: right;\n",
       "    }\n",
       "</style>\n",
       "<table border=\"1\" class=\"dataframe\">\n",
       "  <thead>\n",
       "    <tr style=\"text-align: right;\">\n",
       "      <th></th>\n",
       "      <th>A</th>\n",
       "      <th>B</th>\n",
       "    </tr>\n",
       "  </thead>\n",
       "  <tbody>\n",
       "    <tr>\n",
       "      <th>0</th>\n",
       "      <td>1</td>\n",
       "      <td>a</td>\n",
       "    </tr>\n",
       "    <tr>\n",
       "      <th>1</th>\n",
       "      <td>2</td>\n",
       "      <td>b</td>\n",
       "    </tr>\n",
       "    <tr>\n",
       "      <th>2</th>\n",
       "      <td>3</td>\n",
       "      <td>c</td>\n",
       "    </tr>\n",
       "    <tr>\n",
       "      <th>3</th>\n",
       "      <td>4</td>\n",
       "      <td>d</td>\n",
       "    </tr>\n",
       "    <tr>\n",
       "      <th>4</th>\n",
       "      <td>5</td>\n",
       "      <td>e</td>\n",
       "    </tr>\n",
       "  </tbody>\n",
       "</table>\n",
       "</div>"
      ],
      "text/plain": [
       "   A  B\n",
       "0  1  a\n",
       "1  2  b\n",
       "2  3  c\n",
       "3  4  d\n",
       "4  5  e"
      ]
     },
     "execution_count": 127,
     "metadata": {},
     "output_type": "execute_result"
    }
   ],
   "source": [
    "data.head()"
   ]
  },
  {
   "cell_type": "markdown",
   "id": "2f42b271-cf78-4f12-aa94-52bf3ca8f2af",
   "metadata": {},
   "source": [
    "* **info( ) :-**"
   ]
  },
  {
   "cell_type": "code",
   "execution_count": 128,
   "id": "1b700f93-6fe5-4966-8b9a-3ed0cb5ee988",
   "metadata": {},
   "outputs": [],
   "source": [
    "import pandas as pd"
   ]
  },
  {
   "cell_type": "code",
   "execution_count": 129,
   "id": "4b903147-e6ab-4ffa-8b05-5177b836fa16",
   "metadata": {},
   "outputs": [],
   "source": [
    "data = pd.DataFrame({'A': [1, 2, 3, 4, 5], 'B': ['a', 'b', 'c', 'd', 'e']})"
   ]
  },
  {
   "cell_type": "code",
   "execution_count": 130,
   "id": "d30ce8b9-ddda-4d9b-ae97-6a6bf42605d3",
   "metadata": {},
   "outputs": [
    {
     "name": "stdout",
     "output_type": "stream",
     "text": [
      "<class 'pandas.core.frame.DataFrame'>\n",
      "RangeIndex: 5 entries, 0 to 4\n",
      "Data columns (total 2 columns):\n",
      " #   Column  Non-Null Count  Dtype \n",
      "---  ------  --------------  ----- \n",
      " 0   A       5 non-null      int64 \n",
      " 1   B       5 non-null      object\n",
      "dtypes: int64(1), object(1)\n",
      "memory usage: 208.0+ bytes\n"
     ]
    }
   ],
   "source": [
    "data.info()"
   ]
  },
  {
   "cell_type": "markdown",
   "id": "556453dd-d2dc-4624-801a-e409acf828b1",
   "metadata": {},
   "source": [
    "* **groupby( ) :-**"
   ]
  },
  {
   "cell_type": "code",
   "execution_count": 131,
   "id": "44a81534-fd9a-4152-b77e-8e29f9c3cc22",
   "metadata": {},
   "outputs": [],
   "source": [
    "import pandas as pd"
   ]
  },
  {
   "cell_type": "code",
   "execution_count": 132,
   "id": "faf0e70d-1b27-48e3-9a91-c85c0bd0d1cb",
   "metadata": {},
   "outputs": [],
   "source": [
    "data = pd.DataFrame({'A': ['foo', 'bar', 'foo', 'bar', 'foo'],\n",
    "                     'B': [1, 2, 3, 4, 5],\n",
    "                     'C': [6, 7, 8, 9, 10]})"
   ]
  },
  {
   "cell_type": "code",
   "execution_count": 133,
   "id": "25d210e2-6feb-4737-b278-71928f3f60e7",
   "metadata": {},
   "outputs": [],
   "source": [
    "grouped = data.groupby('A')"
   ]
  },
  {
   "cell_type": "code",
   "execution_count": 134,
   "id": "630a00d9-4f5c-4a64-ba34-e6680c73f2f5",
   "metadata": {},
   "outputs": [
    {
     "name": "stdout",
     "output_type": "stream",
     "text": [
      "bar\n",
      "     A  B  C\n",
      "1  bar  2  7\n",
      "3  bar  4  9\n",
      "foo\n",
      "     A  B   C\n",
      "0  foo  1   6\n",
      "2  foo  3   8\n",
      "4  foo  5  10\n"
     ]
    }
   ],
   "source": [
    "for group_name, group_data in grouped:\n",
    "    print(group_name)\n",
    "    print(group_data)"
   ]
  },
  {
   "cell_type": "markdown",
   "id": "05fa13e3-cd1b-49e9-a402-edc5d48c8f0d",
   "metadata": {},
   "source": [
    "* **tail( ) :-**"
   ]
  },
  {
   "cell_type": "code",
   "execution_count": 135,
   "id": "b791a9ad-f719-4edd-9717-c06e19cdb4da",
   "metadata": {},
   "outputs": [],
   "source": [
    "import pandas as pd"
   ]
  },
  {
   "cell_type": "code",
   "execution_count": 136,
   "id": "806f48b1-3068-4ce7-a600-e7cd977af407",
   "metadata": {},
   "outputs": [],
   "source": [
    "data = pd.DataFrame({'A': [1, 2, 3, 4, 5], 'B': ['a', 'b', 'c', 'd', 'e']})"
   ]
  },
  {
   "cell_type": "code",
   "execution_count": 137,
   "id": "73dd4862-1d8a-427a-bf80-e5a7f2c7cf27",
   "metadata": {},
   "outputs": [
    {
     "data": {
      "text/html": [
       "<div>\n",
       "<style scoped>\n",
       "    .dataframe tbody tr th:only-of-type {\n",
       "        vertical-align: middle;\n",
       "    }\n",
       "\n",
       "    .dataframe tbody tr th {\n",
       "        vertical-align: top;\n",
       "    }\n",
       "\n",
       "    .dataframe thead th {\n",
       "        text-align: right;\n",
       "    }\n",
       "</style>\n",
       "<table border=\"1\" class=\"dataframe\">\n",
       "  <thead>\n",
       "    <tr style=\"text-align: right;\">\n",
       "      <th></th>\n",
       "      <th>A</th>\n",
       "      <th>B</th>\n",
       "    </tr>\n",
       "  </thead>\n",
       "  <tbody>\n",
       "    <tr>\n",
       "      <th>3</th>\n",
       "      <td>4</td>\n",
       "      <td>d</td>\n",
       "    </tr>\n",
       "    <tr>\n",
       "      <th>4</th>\n",
       "      <td>5</td>\n",
       "      <td>e</td>\n",
       "    </tr>\n",
       "  </tbody>\n",
       "</table>\n",
       "</div>"
      ],
      "text/plain": [
       "   A  B\n",
       "3  4  d\n",
       "4  5  e"
      ]
     },
     "execution_count": 137,
     "metadata": {},
     "output_type": "execute_result"
    }
   ],
   "source": [
    "data.tail(2)"
   ]
  },
  {
   "cell_type": "markdown",
   "id": "6e201477-6519-4bab-88ea-9500b86dc04a",
   "metadata": {},
   "source": [
    "# Q2. Given a Pandas DataFrame df with columns 'A', 'B', and 'C', write a Python function to re-index the DataFrame with a new index that starts from 1 and increments by 2 for each row."
   ]
  },
  {
   "cell_type": "code",
   "execution_count": 138,
   "id": "ceb42dc5-8bef-428f-bcd0-34c892ab4c31",
   "metadata": {},
   "outputs": [],
   "source": [
    "import pandas as pd"
   ]
  },
  {
   "cell_type": "code",
   "execution_count": 139,
   "id": "bc5c254b-77df-4ce6-8508-01d2d81a5250",
   "metadata": {},
   "outputs": [],
   "source": [
    "data = {\n",
    "    'A': [10, 20, 30],\n",
    "    'B': [40, 50, 60],\n",
    "    'C': [70, 80, 90]\n",
    "}"
   ]
  },
  {
   "cell_type": "code",
   "execution_count": 140,
   "id": "83cac333-ec44-4a72-bac4-e9a5e1e54ebf",
   "metadata": {},
   "outputs": [],
   "source": [
    "df = pd.DataFrame(data)"
   ]
  },
  {
   "cell_type": "code",
   "execution_count": 141,
   "id": "e1cf885a",
   "metadata": {},
   "outputs": [
    {
     "name": "stdout",
     "output_type": "stream",
     "text": [
      "Original DataFrame:\n",
      "    A   B   C\n",
      "0  10  40  70\n",
      "1  20  50  80\n",
      "2  30  60  90\n"
     ]
    }
   ],
   "source": [
    "print(\"Original DataFrame:\")\n",
    "print(df)"
   ]
  },
  {
   "cell_type": "code",
   "execution_count": 142,
   "id": "f18b68b2",
   "metadata": {},
   "outputs": [],
   "source": [
    "# Re-index the DataFrame using the function\n",
    "def reindex_dataframe(df):\n",
    "    new_index = pd.Series(range(1, len(df) * 2 + 1, 2))\n",
    "    df = df.set_index(new_index)\n",
    "    return df"
   ]
  },
  {
   "cell_type": "code",
   "execution_count": 143,
   "id": "5471e360",
   "metadata": {},
   "outputs": [],
   "source": [
    "df_reindexed = reindex_dataframe(df)"
   ]
  },
  {
   "cell_type": "code",
   "execution_count": 144,
   "id": "7b8289a5",
   "metadata": {},
   "outputs": [
    {
     "name": "stdout",
     "output_type": "stream",
     "text": [
      "Re-indexed DataFrame:\n",
      "    A   B   C\n",
      "1  10  40  70\n",
      "3  20  50  80\n",
      "5  30  60  90\n"
     ]
    }
   ],
   "source": [
    "print(\"Re-indexed DataFrame:\")\n",
    "print(df_reindexed)"
   ]
  },
  {
   "cell_type": "markdown",
   "id": "91db2b53-ca65-493d-ac0c-10adddcb7cac",
   "metadata": {},
   "source": [
    "## Q3. You have a Pandas DataFrame df with a column named 'Values'. Write a Python function that iterates over the DataFrame and calculates the sum of the first three values in the 'Values' column. The function should print the sum to the console.\n",
    "\n",
    "## For example, if the 'Values' column of df contains the values [10, 20, 30, 40, 50], your function should calculate and print the sum of the first three values, which is 60."
   ]
  },
  {
   "cell_type": "markdown",
   "id": "9ee1daa2-c900-42b5-88a3-87ef4bc33188",
   "metadata": {},
   "source": [
    "Ans :- "
   ]
  },
  {
   "cell_type": "code",
   "execution_count": 145,
   "id": "044bb975-da5b-4bb2-be7c-ca6759c22434",
   "metadata": {},
   "outputs": [],
   "source": [
    "import pandas as pd"
   ]
  },
  {
   "cell_type": "code",
   "execution_count": 146,
   "id": "52d6223b-4d56-4842-ae06-2fc2d4f31801",
   "metadata": {},
   "outputs": [],
   "source": [
    "data = {'Values': [40, 40, 30, 40, 50]}"
   ]
  },
  {
   "cell_type": "code",
   "execution_count": 147,
   "id": "7bbe5a94-ec22-4544-9081-6b367a69e302",
   "metadata": {},
   "outputs": [],
   "source": [
    "df = pd.DataFrame(data)"
   ]
  },
  {
   "cell_type": "code",
   "execution_count": 148,
   "id": "6f708ecd-6527-44d2-aeed-7259ef86b6d1",
   "metadata": {},
   "outputs": [],
   "source": [
    "def sum_first_three_values(df):\n",
    "    values_sum = df['Values'].head(3).sum()\n",
    "    print(\"Sum of the first three values:\", values_sum)"
   ]
  },
  {
   "cell_type": "code",
   "execution_count": 149,
   "id": "09840a5b-a1d9-45a2-99a3-f859efd40424",
   "metadata": {},
   "outputs": [
    {
     "name": "stdout",
     "output_type": "stream",
     "text": [
      "Sum of the first three values: 110\n"
     ]
    }
   ],
   "source": [
    "sum_first_three_values(df)"
   ]
  },
  {
   "cell_type": "markdown",
   "id": "c208c9e0-ffa2-42c8-b7fa-ce1868814fd3",
   "metadata": {},
   "source": [
    "## Q4. Given a Pandas DataFrame df with a column 'Text', write a Python function to create a new column 'Word_Count' that contains the number of words in each row of the 'Text' column."
   ]
  },
  {
   "cell_type": "markdown",
   "id": "52bec92d-1ccb-45cb-a370-f1b980ca0ead",
   "metadata": {},
   "source": [
    "Ans :-"
   ]
  },
  {
   "cell_type": "code",
   "execution_count": 150,
   "id": "4e4d4a9f-6ea3-4bf9-8d53-5511fe4e852f",
   "metadata": {},
   "outputs": [],
   "source": [
    "import pandas as pd"
   ]
  },
  {
   "cell_type": "code",
   "execution_count": 151,
   "id": "e02d5ff3-7ee4-4cde-a12b-0e081e518b8d",
   "metadata": {},
   "outputs": [],
   "source": [
    "data = {'Text': ['Hi ,My name is Saksham Jain', 'I am from Indore', 'Python is awesome']}\n",
    "df = pd.DataFrame(data)"
   ]
  },
  {
   "cell_type": "code",
   "execution_count": 152,
   "id": "8e79510a-399f-4ac9-8540-c32937ea46b6",
   "metadata": {},
   "outputs": [],
   "source": [
    "def count_words(df):\n",
    "    df['Word_Count'] = df['Text'].apply(lambda x: len(str(x).split()))\n",
    "    return df"
   ]
  },
  {
   "cell_type": "code",
   "execution_count": 153,
   "id": "afe4904e-dcde-494c-ba8e-caa9b44e45ee",
   "metadata": {},
   "outputs": [],
   "source": [
    "df_with_word_count = count_words(df)"
   ]
  },
  {
   "cell_type": "code",
   "execution_count": 154,
   "id": "5a3ca1d2-9d14-40be-8384-8bfa7301da85",
   "metadata": {},
   "outputs": [
    {
     "name": "stdout",
     "output_type": "stream",
     "text": [
      "                          Text  Word_Count\n",
      "0  Hi ,My name is Saksham Jain           6\n",
      "1             I am from Indore           4\n",
      "2            Python is awesome           3\n"
     ]
    }
   ],
   "source": [
    "print(df_with_word_count)"
   ]
  },
  {
   "cell_type": "markdown",
   "id": "9efdc2a8-7ff8-4aac-902e-402f57df60e4",
   "metadata": {},
   "source": [
    "## Q5. How are DataFrame.size() and DataFrame.shape() different?"
   ]
  },
  {
   "cell_type": "markdown",
   "id": "e037bc64-eeb1-4650-b476-808cbfbad2e6",
   "metadata": {},
   "source": [
    "Ans :- "
   ]
  },
  {
   "cell_type": "markdown",
   "id": "f13d1f47-9c17-4b0e-8518-e3f63950144b",
   "metadata": {},
   "source": [
    "* **DataFrame.size( ) :-** "
   ]
  },
  {
   "cell_type": "markdown",
   "id": "059ba0fa-a850-4003-827e-8a260b6c996d",
   "metadata": {},
   "source": [
    "This method returns the number of elements in the DataFrame, i.e., the total number of cells in the DataFrame. It calculates the size by multiplying the number of rows by the number of columns."
   ]
  },
  {
   "cell_type": "markdown",
   "id": "95d2b1b4-333d-4a4d-bc80-5d31e10ab5b6",
   "metadata": {},
   "source": [
    "* Example :- "
   ]
  },
  {
   "cell_type": "code",
   "execution_count": 155,
   "id": "f771c656-b781-46ee-b4d7-5f22cc1039bc",
   "metadata": {},
   "outputs": [],
   "source": [
    "import pandas as pd"
   ]
  },
  {
   "cell_type": "code",
   "execution_count": 156,
   "id": "92bb2478-1c89-4527-9361-021a8d1f7d40",
   "metadata": {},
   "outputs": [],
   "source": [
    "df = pd.DataFrame({'A': [1, 2, 3], 'B': [4, 5, 6]})"
   ]
  },
  {
   "cell_type": "code",
   "execution_count": 157,
   "id": "3fc40d8c-fd9a-4637-9641-a590344e750f",
   "metadata": {},
   "outputs": [],
   "source": [
    "size = df.size"
   ]
  },
  {
   "cell_type": "code",
   "execution_count": 158,
   "id": "b9b0d118-11db-4501-bf4e-3d33a6b7ea76",
   "metadata": {},
   "outputs": [
    {
     "name": "stdout",
     "output_type": "stream",
     "text": [
      "Size of DataFrame: 6\n"
     ]
    }
   ],
   "source": [
    "print(\"Size of DataFrame:\", size)"
   ]
  },
  {
   "cell_type": "markdown",
   "id": "212d857d-9c62-4499-ad7e-0282aad02ca2",
   "metadata": {},
   "source": [
    "* **DataFrame.shape( ) :-** "
   ]
  },
  {
   "cell_type": "markdown",
   "id": "4a4a3c4e-3169-445d-8b08-d5ad91020b39",
   "metadata": {},
   "source": [
    "This attribute returns a tuple representing the dimensionality of the DataFrame, i.e., the number of rows and columns. It provides information about the structure of the DataFrame without counting individual elements."
   ]
  },
  {
   "cell_type": "markdown",
   "id": "25415505-4812-4db4-8a91-aed6b49acd8f",
   "metadata": {},
   "source": [
    "* Example :- "
   ]
  },
  {
   "cell_type": "code",
   "execution_count": 159,
   "id": "80236da1-976e-4666-925c-48348c44e0da",
   "metadata": {},
   "outputs": [],
   "source": [
    "import pandas as pd"
   ]
  },
  {
   "cell_type": "code",
   "execution_count": 160,
   "id": "5510e2c1-2654-4e85-9455-601e7a771d43",
   "metadata": {},
   "outputs": [],
   "source": [
    "df = pd.DataFrame({'A': [1, 2, 3], 'B': [4, 5, 6]})"
   ]
  },
  {
   "cell_type": "code",
   "execution_count": 161,
   "id": "e2bc2f63-3fdc-4fc1-9aa3-35b8df4549ea",
   "metadata": {},
   "outputs": [],
   "source": [
    "shape = df.shape"
   ]
  },
  {
   "cell_type": "code",
   "execution_count": 162,
   "id": "0e82df10-74c2-4e28-93bc-745ef6fa1dbb",
   "metadata": {},
   "outputs": [
    {
     "name": "stdout",
     "output_type": "stream",
     "text": [
      "Shape of DataFrame: (3, 2)\n"
     ]
    }
   ],
   "source": [
    "print(\"Shape of DataFrame:\", shape)"
   ]
  },
  {
   "cell_type": "markdown",
   "id": "7c4ba597-7820-4fe6-8362-5761c8e5c4a5",
   "metadata": {},
   "source": [
    "## Q6. Which function of pandas do we use to read an excel file?"
   ]
  },
  {
   "cell_type": "markdown",
   "id": "49108da8-e488-4e31-91ef-717ff6ca790e",
   "metadata": {},
   "source": [
    "Ans :-"
   ]
  },
  {
   "cell_type": "code",
   "execution_count": 163,
   "id": "d510d12d-419c-470f-91e2-e4e3d74904d6",
   "metadata": {},
   "outputs": [],
   "source": [
    "import pandas as pd"
   ]
  },
  {
   "cell_type": "code",
   "execution_count": 164,
   "id": "37ffd5b1-fe21-4be8-ae05-210f95af3515",
   "metadata": {},
   "outputs": [],
   "source": [
    "df = pd.read_excel('LUSID Excel - Setting up your market data.xlsx')"
   ]
  },
  {
   "cell_type": "code",
   "execution_count": 165,
   "id": "7dbb4480-8d0f-4a56-a4ed-e93f9337e093",
   "metadata": {},
   "outputs": [
    {
     "data": {
      "text/html": [
       "<div>\n",
       "<style scoped>\n",
       "    .dataframe tbody tr th:only-of-type {\n",
       "        vertical-align: middle;\n",
       "    }\n",
       "\n",
       "    .dataframe tbody tr th {\n",
       "        vertical-align: top;\n",
       "    }\n",
       "\n",
       "    .dataframe thead th {\n",
       "        text-align: right;\n",
       "    }\n",
       "</style>\n",
       "<table border=\"1\" class=\"dataframe\">\n",
       "  <thead>\n",
       "    <tr style=\"text-align: right;\">\n",
       "      <th></th>\n",
       "      <th>Unnamed: 0</th>\n",
       "      <th>Unnamed: 1</th>\n",
       "      <th>Unnamed: 2</th>\n",
       "      <th>Unnamed: 3</th>\n",
       "      <th>Unnamed: 4</th>\n",
       "      <th>Unnamed: 5</th>\n",
       "      <th>Unnamed: 6</th>\n",
       "      <th>Unnamed: 7</th>\n",
       "      <th>Unnamed: 8</th>\n",
       "      <th>Unnamed: 9</th>\n",
       "    </tr>\n",
       "  </thead>\n",
       "  <tbody>\n",
       "    <tr>\n",
       "      <th>0</th>\n",
       "      <td>NaN</td>\n",
       "      <td>NaN</td>\n",
       "      <td>NaN</td>\n",
       "      <td>NaN</td>\n",
       "      <td>NaN</td>\n",
       "      <td>NaN</td>\n",
       "      <td>NaN</td>\n",
       "      <td>NaN</td>\n",
       "      <td>NaN</td>\n",
       "      <td>NaN</td>\n",
       "    </tr>\n",
       "    <tr>\n",
       "      <th>1</th>\n",
       "      <td>NaN</td>\n",
       "      <td>NaN</td>\n",
       "      <td>NaN</td>\n",
       "      <td>Datetimes in LUSID</td>\n",
       "      <td>NaN</td>\n",
       "      <td>NaN</td>\n",
       "      <td>NaN</td>\n",
       "      <td>NaN</td>\n",
       "      <td>NaN</td>\n",
       "      <td>NaN</td>\n",
       "    </tr>\n",
       "    <tr>\n",
       "      <th>2</th>\n",
       "      <td>NaN</td>\n",
       "      <td>NaN</td>\n",
       "      <td>NaN</td>\n",
       "      <td>NaN</td>\n",
       "      <td>NaN</td>\n",
       "      <td>NaN</td>\n",
       "      <td>NaN</td>\n",
       "      <td>NaN</td>\n",
       "      <td>NaN</td>\n",
       "      <td>NaN</td>\n",
       "    </tr>\n",
       "    <tr>\n",
       "      <th>3</th>\n",
       "      <td>NaN</td>\n",
       "      <td>NaN</td>\n",
       "      <td>NaN</td>\n",
       "      <td>This sheet allows you to format datetimes for...</td>\n",
       "      <td>NaN</td>\n",
       "      <td>NaN</td>\n",
       "      <td>NaN</td>\n",
       "      <td>NaN</td>\n",
       "      <td>NaN</td>\n",
       "      <td>NaN</td>\n",
       "    </tr>\n",
       "    <tr>\n",
       "      <th>4</th>\n",
       "      <td>NaN</td>\n",
       "      <td>NaN</td>\n",
       "      <td>NaN</td>\n",
       "      <td>If you have any questions please visit our:</td>\n",
       "      <td>NaN</td>\n",
       "      <td>NaN</td>\n",
       "      <td>NaN</td>\n",
       "      <td>NaN</td>\n",
       "      <td>NaN</td>\n",
       "      <td>NaN</td>\n",
       "    </tr>\n",
       "    <tr>\n",
       "      <th>5</th>\n",
       "      <td>NaN</td>\n",
       "      <td>NaN</td>\n",
       "      <td>NaN</td>\n",
       "      <td>NaN</td>\n",
       "      <td>Getting Started tutorials</td>\n",
       "      <td>NaN</td>\n",
       "      <td>NaN</td>\n",
       "      <td>NaN</td>\n",
       "      <td>NaN</td>\n",
       "      <td>NaN</td>\n",
       "    </tr>\n",
       "    <tr>\n",
       "      <th>6</th>\n",
       "      <td>NaN</td>\n",
       "      <td>NaN</td>\n",
       "      <td>NaN</td>\n",
       "      <td>NaN</td>\n",
       "      <td>Knowledge Base articles</td>\n",
       "      <td>NaN</td>\n",
       "      <td>NaN</td>\n",
       "      <td>NaN</td>\n",
       "      <td>NaN</td>\n",
       "      <td>NaN</td>\n",
       "    </tr>\n",
       "    <tr>\n",
       "      <th>7</th>\n",
       "      <td>NaN</td>\n",
       "      <td>NaN</td>\n",
       "      <td>NaN</td>\n",
       "      <td>NaN</td>\n",
       "      <td>or Contact us</td>\n",
       "      <td>NaN</td>\n",
       "      <td>NaN</td>\n",
       "      <td>NaN</td>\n",
       "      <td>NaN</td>\n",
       "      <td>NaN</td>\n",
       "    </tr>\n",
       "    <tr>\n",
       "      <th>8</th>\n",
       "      <td>NaN</td>\n",
       "      <td>NaN</td>\n",
       "      <td>NaN</td>\n",
       "      <td>NaN</td>\n",
       "      <td>NaN</td>\n",
       "      <td>NaN</td>\n",
       "      <td>NaN</td>\n",
       "      <td>NaN</td>\n",
       "      <td>NaN</td>\n",
       "      <td>NaN</td>\n",
       "    </tr>\n",
       "    <tr>\n",
       "      <th>9</th>\n",
       "      <td>NaN</td>\n",
       "      <td>NaN</td>\n",
       "      <td>NaN</td>\n",
       "      <td>NaN</td>\n",
       "      <td>NaN</td>\n",
       "      <td>NaN</td>\n",
       "      <td>NaN</td>\n",
       "      <td>NaN</td>\n",
       "      <td>NaN</td>\n",
       "      <td>NaN</td>\n",
       "    </tr>\n",
       "    <tr>\n",
       "      <th>10</th>\n",
       "      <td>NaN</td>\n",
       "      <td>NaN</td>\n",
       "      <td>NaN</td>\n",
       "      <td>NaN</td>\n",
       "      <td>NaN</td>\n",
       "      <td>NaN</td>\n",
       "      <td>NaN</td>\n",
       "      <td>NaN</td>\n",
       "      <td>NaN</td>\n",
       "      <td>NaN</td>\n",
       "    </tr>\n",
       "    <tr>\n",
       "      <th>11</th>\n",
       "      <td>NaN</td>\n",
       "      <td>NaN</td>\n",
       "      <td>NaN</td>\n",
       "      <td>NaN</td>\n",
       "      <td>LUSID accepts datetimes in any recognised Exce...</td>\n",
       "      <td>NaN</td>\n",
       "      <td>NaN</td>\n",
       "      <td>LUSID also accepts UTC, UTS offsets and cutlabels</td>\n",
       "      <td>NaN</td>\n",
       "      <td>NaN</td>\n",
       "    </tr>\n",
       "    <tr>\n",
       "      <th>12</th>\n",
       "      <td>NaN</td>\n",
       "      <td>NaN</td>\n",
       "      <td>NaN</td>\n",
       "      <td>NaN</td>\n",
       "      <td>NaN</td>\n",
       "      <td>NaN</td>\n",
       "      <td>NaN</td>\n",
       "      <td>NaN</td>\n",
       "      <td>NaN</td>\n",
       "      <td>NaN</td>\n",
       "    </tr>\n",
       "    <tr>\n",
       "      <th>13</th>\n",
       "      <td>NaN</td>\n",
       "      <td>NaN</td>\n",
       "      <td>NaN</td>\n",
       "      <td>NaN</td>\n",
       "      <td>Excel formats to show datetime</td>\n",
       "      <td>NaN</td>\n",
       "      <td>NaN</td>\n",
       "      <td>Additional formats</td>\n",
       "      <td>NaN</td>\n",
       "      <td>NaN</td>\n",
       "    </tr>\n",
       "    <tr>\n",
       "      <th>14</th>\n",
       "      <td>NaN</td>\n",
       "      <td>NaN</td>\n",
       "      <td>NaN</td>\n",
       "      <td>NaN</td>\n",
       "      <td>NaN</td>\n",
       "      <td>NaN</td>\n",
       "      <td>NaN</td>\n",
       "      <td>NaN</td>\n",
       "      <td>NaN</td>\n",
       "      <td>NaN</td>\n",
       "    </tr>\n",
       "    <tr>\n",
       "      <th>15</th>\n",
       "      <td>NaN</td>\n",
       "      <td>NaN</td>\n",
       "      <td>NaN</td>\n",
       "      <td>NaN</td>\n",
       "      <td>Enter the date to convert</td>\n",
       "      <td>2019-04-10 00:00:00</td>\n",
       "      <td>NaN</td>\n",
       "      <td>Standard UTC timestamp:</td>\n",
       "      <td>\"YYYY-MM-DDTHH:MM:SS.00Z\"</td>\n",
       "      <td>Where Z indicates Zulu time (UTC+0), and is eq...</td>\n",
       "    </tr>\n",
       "    <tr>\n",
       "      <th>16</th>\n",
       "      <td>NaN</td>\n",
       "      <td>NaN</td>\n",
       "      <td>NaN</td>\n",
       "      <td>NaN</td>\n",
       "      <td>NaN</td>\n",
       "      <td>NaN</td>\n",
       "      <td>NaN</td>\n",
       "      <td>NaN</td>\n",
       "      <td>NaN</td>\n",
       "      <td>NaN</td>\n",
       "    </tr>\n",
       "    <tr>\n",
       "      <th>17</th>\n",
       "      <td>NaN</td>\n",
       "      <td>NaN</td>\n",
       "      <td>NaN</td>\n",
       "      <td>NaN</td>\n",
       "      <td>This date has no time component</td>\n",
       "      <td>2019-04-10 00:00:00</td>\n",
       "      <td>NaN</td>\n",
       "      <td>Convert date into a string</td>\n",
       "      <td>2019-04-10T 13:30:45.55Z</td>\n",
       "      <td>NaN</td>\n",
       "    </tr>\n",
       "    <tr>\n",
       "      <th>18</th>\n",
       "      <td>NaN</td>\n",
       "      <td>NaN</td>\n",
       "      <td>NaN</td>\n",
       "      <td>NaN</td>\n",
       "      <td>NaN</td>\n",
       "      <td>NaN</td>\n",
       "      <td>NaN</td>\n",
       "      <td>NaN</td>\n",
       "      <td>NaN</td>\n",
       "      <td>NaN</td>\n",
       "    </tr>\n",
       "    <tr>\n",
       "      <th>19</th>\n",
       "      <td>NaN</td>\n",
       "      <td>NaN</td>\n",
       "      <td>NaN</td>\n",
       "      <td>NaN</td>\n",
       "      <td>Specify time component</td>\n",
       "      <td>13:30:45.550000</td>\n",
       "      <td>NaN</td>\n",
       "      <td>UTC offset (not recognised as an excel date)</td>\n",
       "      <td>2019-04-10T13:30:45+04:00</td>\n",
       "      <td>NaN</td>\n",
       "    </tr>\n",
       "    <tr>\n",
       "      <th>20</th>\n",
       "      <td>NaN</td>\n",
       "      <td>NaN</td>\n",
       "      <td>NaN</td>\n",
       "      <td>NaN</td>\n",
       "      <td>NaN</td>\n",
       "      <td>NaN</td>\n",
       "      <td>NaN</td>\n",
       "      <td>NaN</td>\n",
       "      <td>NaN</td>\n",
       "      <td>NaN</td>\n",
       "    </tr>\n",
       "    <tr>\n",
       "      <th>21</th>\n",
       "      <td>NaN</td>\n",
       "      <td>NaN</td>\n",
       "      <td>NaN</td>\n",
       "      <td>NaN</td>\n",
       "      <td>Add to your date and display the complete date...</td>\n",
       "      <td>2019-04-10 13:30:45.550000</td>\n",
       "      <td>NaN</td>\n",
       "      <td>Cutlabel</td>\n",
       "      <td>2019-04-10NSingaporeClose</td>\n",
       "      <td>NaN</td>\n",
       "    </tr>\n",
       "    <tr>\n",
       "      <th>22</th>\n",
       "      <td>NaN</td>\n",
       "      <td>NaN</td>\n",
       "      <td>NaN</td>\n",
       "      <td>NaN</td>\n",
       "      <td>NaN</td>\n",
       "      <td>NaN</td>\n",
       "      <td>NaN</td>\n",
       "      <td>NaN</td>\n",
       "      <td>NaN</td>\n",
       "      <td>NaN</td>\n",
       "    </tr>\n",
       "    <tr>\n",
       "      <th>23</th>\n",
       "      <td>NaN</td>\n",
       "      <td>NaN</td>\n",
       "      <td>NaN</td>\n",
       "      <td>NaN</td>\n",
       "      <td>Although the date can still appears without time</td>\n",
       "      <td>2019-04-10 13:30:45.550000</td>\n",
       "      <td>NaN</td>\n",
       "      <td>NaN</td>\n",
       "      <td>NaN</td>\n",
       "      <td>NaN</td>\n",
       "    </tr>\n",
       "    <tr>\n",
       "      <th>24</th>\n",
       "      <td>NaN</td>\n",
       "      <td>NaN</td>\n",
       "      <td>NaN</td>\n",
       "      <td>NaN</td>\n",
       "      <td>NaN</td>\n",
       "      <td>NaN</td>\n",
       "      <td>NaN</td>\n",
       "      <td>NaN</td>\n",
       "      <td>NaN</td>\n",
       "      <td>NaN</td>\n",
       "    </tr>\n",
       "    <tr>\n",
       "      <th>25</th>\n",
       "      <td>NaN</td>\n",
       "      <td>NaN</td>\n",
       "      <td>NaN</td>\n",
       "      <td>NaN</td>\n",
       "      <td>Add an hour to your datetime</td>\n",
       "      <td>2019-04-10 14:30:45.550000</td>\n",
       "      <td>NaN</td>\n",
       "      <td>NaN</td>\n",
       "      <td>NaN</td>\n",
       "      <td>NaN</td>\n",
       "    </tr>\n",
       "    <tr>\n",
       "      <th>26</th>\n",
       "      <td>NaN</td>\n",
       "      <td>NaN</td>\n",
       "      <td>NaN</td>\n",
       "      <td>NaN</td>\n",
       "      <td>NaN</td>\n",
       "      <td>NaN</td>\n",
       "      <td>NaN</td>\n",
       "      <td>NaN</td>\n",
       "      <td>NaN</td>\n",
       "      <td>NaN</td>\n",
       "    </tr>\n",
       "    <tr>\n",
       "      <th>27</th>\n",
       "      <td>NaN</td>\n",
       "      <td>NaN</td>\n",
       "      <td>NaN</td>\n",
       "      <td>NaN</td>\n",
       "      <td>Subtract a minute from your datetime</td>\n",
       "      <td>2019-04-10 14:29:45.550000</td>\n",
       "      <td>NaN</td>\n",
       "      <td>NaN</td>\n",
       "      <td>NaN</td>\n",
       "      <td>NaN</td>\n",
       "    </tr>\n",
       "  </tbody>\n",
       "</table>\n",
       "</div>"
      ],
      "text/plain": [
       "    Unnamed: 0  Unnamed: 1  Unnamed: 2  \\\n",
       "0          NaN         NaN         NaN   \n",
       "1          NaN         NaN         NaN   \n",
       "2          NaN         NaN         NaN   \n",
       "3          NaN         NaN         NaN   \n",
       "4          NaN         NaN         NaN   \n",
       "5          NaN         NaN         NaN   \n",
       "6          NaN         NaN         NaN   \n",
       "7          NaN         NaN         NaN   \n",
       "8          NaN         NaN         NaN   \n",
       "9          NaN         NaN         NaN   \n",
       "10         NaN         NaN         NaN   \n",
       "11         NaN         NaN         NaN   \n",
       "12         NaN         NaN         NaN   \n",
       "13         NaN         NaN         NaN   \n",
       "14         NaN         NaN         NaN   \n",
       "15         NaN         NaN         NaN   \n",
       "16         NaN         NaN         NaN   \n",
       "17         NaN         NaN         NaN   \n",
       "18         NaN         NaN         NaN   \n",
       "19         NaN         NaN         NaN   \n",
       "20         NaN         NaN         NaN   \n",
       "21         NaN         NaN         NaN   \n",
       "22         NaN         NaN         NaN   \n",
       "23         NaN         NaN         NaN   \n",
       "24         NaN         NaN         NaN   \n",
       "25         NaN         NaN         NaN   \n",
       "26         NaN         NaN         NaN   \n",
       "27         NaN         NaN         NaN   \n",
       "\n",
       "                                           Unnamed: 3  \\\n",
       "0                                                 NaN   \n",
       "1                                  Datetimes in LUSID   \n",
       "2                                                 NaN   \n",
       "3    This sheet allows you to format datetimes for...   \n",
       "4         If you have any questions please visit our:   \n",
       "5                                                 NaN   \n",
       "6                                                 NaN   \n",
       "7                                                 NaN   \n",
       "8                                                 NaN   \n",
       "9                                                 NaN   \n",
       "10                                                NaN   \n",
       "11                                                NaN   \n",
       "12                                                NaN   \n",
       "13                                                NaN   \n",
       "14                                                NaN   \n",
       "15                                                NaN   \n",
       "16                                                NaN   \n",
       "17                                                NaN   \n",
       "18                                                NaN   \n",
       "19                                                NaN   \n",
       "20                                                NaN   \n",
       "21                                                NaN   \n",
       "22                                                NaN   \n",
       "23                                                NaN   \n",
       "24                                                NaN   \n",
       "25                                                NaN   \n",
       "26                                                NaN   \n",
       "27                                                NaN   \n",
       "\n",
       "                                           Unnamed: 4  \\\n",
       "0                                                 NaN   \n",
       "1                                                 NaN   \n",
       "2                                                 NaN   \n",
       "3                                                 NaN   \n",
       "4                                                 NaN   \n",
       "5                           Getting Started tutorials   \n",
       "6                             Knowledge Base articles   \n",
       "7                                       or Contact us   \n",
       "8                                                 NaN   \n",
       "9                                                 NaN   \n",
       "10                                                NaN   \n",
       "11  LUSID accepts datetimes in any recognised Exce...   \n",
       "12                                                NaN   \n",
       "13                     Excel formats to show datetime   \n",
       "14                                                NaN   \n",
       "15                          Enter the date to convert   \n",
       "16                                                NaN   \n",
       "17                    This date has no time component   \n",
       "18                                                NaN   \n",
       "19                             Specify time component   \n",
       "20                                                NaN   \n",
       "21  Add to your date and display the complete date...   \n",
       "22                                                NaN   \n",
       "23   Although the date can still appears without time   \n",
       "24                                                NaN   \n",
       "25                       Add an hour to your datetime   \n",
       "26                                                NaN   \n",
       "27               Subtract a minute from your datetime   \n",
       "\n",
       "                    Unnamed: 5  Unnamed: 6  \\\n",
       "0                          NaN         NaN   \n",
       "1                          NaN         NaN   \n",
       "2                          NaN         NaN   \n",
       "3                          NaN         NaN   \n",
       "4                          NaN         NaN   \n",
       "5                          NaN         NaN   \n",
       "6                          NaN         NaN   \n",
       "7                          NaN         NaN   \n",
       "8                          NaN         NaN   \n",
       "9                          NaN         NaN   \n",
       "10                         NaN         NaN   \n",
       "11                         NaN         NaN   \n",
       "12                         NaN         NaN   \n",
       "13                         NaN         NaN   \n",
       "14                         NaN         NaN   \n",
       "15         2019-04-10 00:00:00         NaN   \n",
       "16                         NaN         NaN   \n",
       "17         2019-04-10 00:00:00         NaN   \n",
       "18                         NaN         NaN   \n",
       "19             13:30:45.550000         NaN   \n",
       "20                         NaN         NaN   \n",
       "21  2019-04-10 13:30:45.550000         NaN   \n",
       "22                         NaN         NaN   \n",
       "23  2019-04-10 13:30:45.550000         NaN   \n",
       "24                         NaN         NaN   \n",
       "25  2019-04-10 14:30:45.550000         NaN   \n",
       "26                         NaN         NaN   \n",
       "27  2019-04-10 14:29:45.550000         NaN   \n",
       "\n",
       "                                           Unnamed: 7  \\\n",
       "0                                                 NaN   \n",
       "1                                                 NaN   \n",
       "2                                                 NaN   \n",
       "3                                                 NaN   \n",
       "4                                                 NaN   \n",
       "5                                                 NaN   \n",
       "6                                                 NaN   \n",
       "7                                                 NaN   \n",
       "8                                                 NaN   \n",
       "9                                                 NaN   \n",
       "10                                                NaN   \n",
       "11  LUSID also accepts UTC, UTS offsets and cutlabels   \n",
       "12                                                NaN   \n",
       "13                                 Additional formats   \n",
       "14                                                NaN   \n",
       "15                            Standard UTC timestamp:   \n",
       "16                                                NaN   \n",
       "17                         Convert date into a string   \n",
       "18                                                NaN   \n",
       "19       UTC offset (not recognised as an excel date)   \n",
       "20                                                NaN   \n",
       "21                                           Cutlabel   \n",
       "22                                                NaN   \n",
       "23                                                NaN   \n",
       "24                                                NaN   \n",
       "25                                                NaN   \n",
       "26                                                NaN   \n",
       "27                                                NaN   \n",
       "\n",
       "                   Unnamed: 8  \\\n",
       "0                         NaN   \n",
       "1                         NaN   \n",
       "2                         NaN   \n",
       "3                         NaN   \n",
       "4                         NaN   \n",
       "5                         NaN   \n",
       "6                         NaN   \n",
       "7                         NaN   \n",
       "8                         NaN   \n",
       "9                         NaN   \n",
       "10                        NaN   \n",
       "11                        NaN   \n",
       "12                        NaN   \n",
       "13                        NaN   \n",
       "14                        NaN   \n",
       "15  \"YYYY-MM-DDTHH:MM:SS.00Z\"   \n",
       "16                        NaN   \n",
       "17   2019-04-10T 13:30:45.55Z   \n",
       "18                        NaN   \n",
       "19  2019-04-10T13:30:45+04:00   \n",
       "20                        NaN   \n",
       "21  2019-04-10NSingaporeClose   \n",
       "22                        NaN   \n",
       "23                        NaN   \n",
       "24                        NaN   \n",
       "25                        NaN   \n",
       "26                        NaN   \n",
       "27                        NaN   \n",
       "\n",
       "                                           Unnamed: 9  \n",
       "0                                                 NaN  \n",
       "1                                                 NaN  \n",
       "2                                                 NaN  \n",
       "3                                                 NaN  \n",
       "4                                                 NaN  \n",
       "5                                                 NaN  \n",
       "6                                                 NaN  \n",
       "7                                                 NaN  \n",
       "8                                                 NaN  \n",
       "9                                                 NaN  \n",
       "10                                                NaN  \n",
       "11                                                NaN  \n",
       "12                                                NaN  \n",
       "13                                                NaN  \n",
       "14                                                NaN  \n",
       "15  Where Z indicates Zulu time (UTC+0), and is eq...  \n",
       "16                                                NaN  \n",
       "17                                                NaN  \n",
       "18                                                NaN  \n",
       "19                                                NaN  \n",
       "20                                                NaN  \n",
       "21                                                NaN  \n",
       "22                                                NaN  \n",
       "23                                                NaN  \n",
       "24                                                NaN  \n",
       "25                                                NaN  \n",
       "26                                                NaN  \n",
       "27                                                NaN  "
      ]
     },
     "execution_count": 165,
     "metadata": {},
     "output_type": "execute_result"
    }
   ],
   "source": [
    "df"
   ]
  },
  {
   "cell_type": "markdown",
   "id": "f2b89048-ec64-4269-9f05-f38a0e38453e",
   "metadata": {},
   "source": [
    "## Q7. You have a Pandas DataFrame df that contains a column named 'Email' that contains email addresses in the format 'username@domain.com'. Write a Python function that creates a new column 'Username' in df that contains only the username part of each email address.\n",
    "\n",
    "## The username is the part of the email address that appears before the '@' symbol. For example, if the email address is 'john.doe@example.com', the 'Username' column should contain 'john.doe'. Your function should extract the username from each email address and store it in the new 'Username' column."
   ]
  },
  {
   "cell_type": "markdown",
   "id": "e5b4cde6-2cc3-492c-b172-ab98221c2994",
   "metadata": {},
   "source": [
    "Ans :- "
   ]
  },
  {
   "cell_type": "code",
   "execution_count": 166,
   "id": "ffa19d35-d682-4da0-a86c-60d1f625aa00",
   "metadata": {},
   "outputs": [],
   "source": [
    "import pandas as pd"
   ]
  },
  {
   "cell_type": "code",
   "execution_count": 167,
   "id": "a33715a8-6060-4875-8432-66ca21de231b",
   "metadata": {},
   "outputs": [],
   "source": [
    "data = {'Email': ['sakshamjain@gamil.com', 'ritikasuneriya@gamil.com.com', 'kushagra.jain@gmail.com']}"
   ]
  },
  {
   "cell_type": "code",
   "execution_count": 168,
   "id": "a186ff85-1b37-4e3d-a605-96aaaa6813e0",
   "metadata": {},
   "outputs": [],
   "source": [
    "df = pd.DataFrame(data)"
   ]
  },
  {
   "cell_type": "code",
   "execution_count": 169,
   "id": "b85224ed-16b9-4989-b281-da8aa609ac3c",
   "metadata": {},
   "outputs": [],
   "source": [
    "def extract_username(email):\n",
    "    return email.split('@')[0]"
   ]
  },
  {
   "cell_type": "code",
   "execution_count": 170,
   "id": "8f08bc20-cc25-49e1-b9ef-9b364cddd2ff",
   "metadata": {},
   "outputs": [],
   "source": [
    "def add_username_column(df):\n",
    "    df['Username'] = df['Email'].apply(extract_username)\n",
    "    return df"
   ]
  },
  {
   "cell_type": "code",
   "execution_count": 171,
   "id": "f0523b7a-82c0-428e-bc6d-dc0b5d61db6a",
   "metadata": {},
   "outputs": [],
   "source": [
    "df_with_username = add_username_column(df)"
   ]
  },
  {
   "cell_type": "code",
   "execution_count": 172,
   "id": "a6bb204b-bce5-4bc8-ba06-cf40ca91f44d",
   "metadata": {},
   "outputs": [
    {
     "name": "stdout",
     "output_type": "stream",
     "text": [
      "                          Email        Username\n",
      "0         sakshamjain@gamil.com     sakshamjain\n",
      "1  ritikasuneriya@gamil.com.com  ritikasuneriya\n",
      "2       kushagra.jain@gmail.com   kushagra.jain\n"
     ]
    }
   ],
   "source": [
    "print(df_with_username)"
   ]
  },
  {
   "cell_type": "markdown",
   "id": "c3f70bb4-33c9-43ae-9ec1-55bbe7dd6c60",
   "metadata": {},
   "source": [
    "## Q8. You have a Pandas DataFrame df with columns 'A', 'B', and 'C'. Write a Python function that selects all rows where the value in column 'A' is greater than 5 and the value in column 'B' is less than 10. The function should return a new DataFrame that contains only the selected rows.\n",
    "\n",
    "## For example, if df contains the following values:\n",
    "**A B C\n",
    "0 3 5 1\n",
    "1 8 2 7\n",
    "2 6 9 4\n",
    "3 2 3 5\n",
    "4 9 1 2\n",
    "Your function should select the following rows: A B C\n",
    "1 8 2 7\n",
    "4 9 1 2\n",
    "The function should return a new DataFrame that contains only the selected rows.**"
   ]
  },
  {
   "cell_type": "code",
   "execution_count": 175,
   "id": "7d8205e9-b37f-405b-903f-67bc4d263a0a",
   "metadata": {},
   "outputs": [],
   "source": [
    "import pandas as pd"
   ]
  },
  {
   "cell_type": "code",
   "execution_count": 176,
   "id": "b79a11b8-dbe8-4677-9f6e-aa72b965aa42",
   "metadata": {},
   "outputs": [],
   "source": [
    "data = {'A': [3, 8, 6, 2, 9],\n",
    "        'B': [5, 2, 9, 3, 1],\n",
    "        'C': [1, 7, 4, 5, 2]}"
   ]
  },
  {
   "cell_type": "code",
   "execution_count": 177,
   "id": "eaefd6a4-34c9-464c-a00c-38329756aceb",
   "metadata": {},
   "outputs": [],
   "source": [
    "df = pd.DataFrame(data)"
   ]
  },
  {
   "cell_type": "code",
   "execution_count": 178,
   "id": "8f1c1e5e-3b4c-4b28-9945-0de2e5ffb0ce",
   "metadata": {},
   "outputs": [],
   "source": [
    "def select_rows(df):\n",
    "    selected_df = df[(df['A'] > 5) & (df['B'] < 10)]\n",
    "    return selected_df"
   ]
  },
  {
   "cell_type": "code",
   "execution_count": 179,
   "id": "76e63ff4-0d3d-467d-93f2-43b8ed3a8cda",
   "metadata": {},
   "outputs": [],
   "source": [
    "selected_df = select_rows(df)"
   ]
  },
  {
   "cell_type": "code",
   "execution_count": 180,
   "id": "0784b4fe-bd73-4470-9d97-b4ba0b65be1e",
   "metadata": {},
   "outputs": [
    {
     "name": "stdout",
     "output_type": "stream",
     "text": [
      "Selected Rows:\n",
      "   A  B  C\n",
      "1  8  2  7\n",
      "2  6  9  4\n",
      "4  9  1  2\n"
     ]
    }
   ],
   "source": [
    "print(\"Selected Rows:\")\n",
    "print(selected_df)"
   ]
  },
  {
   "cell_type": "markdown",
   "id": "ce90dfb2-e51a-4ea1-b143-cc37d6f3e732",
   "metadata": {},
   "source": [
    "## Q9. Given a Pandas DataFrame df with a column 'Values', write a Python function to calculate the mean, median, and standard deviation of the values in the 'Values' column."
   ]
  },
  {
   "cell_type": "markdown",
   "id": "8b207705-7b40-4eef-9eb0-10b0e1f109fb",
   "metadata": {},
   "source": [
    "Ans :- "
   ]
  },
  {
   "cell_type": "code",
   "execution_count": 183,
   "id": "76e6f414-825c-4cc1-97cf-bb418c8efffe",
   "metadata": {},
   "outputs": [],
   "source": [
    "import pandas as pd\n",
    "\n",
    "def calculate_statistics(df):\n",
    "    mean_value = df['Values'].mean()\n",
    "    median_value = df['Values'].median()\n",
    "    std_dev = df['Values'].std()\n",
    "    \n",
    "    return mean_value, median_value, std_dev"
   ]
  },
  {
   "cell_type": "markdown",
   "id": "fc6b5827-30b7-44e5-9260-06fce2792c37",
   "metadata": {},
   "source": [
    "* Example :-"
   ]
  },
  {
   "cell_type": "code",
   "execution_count": 186,
   "id": "c13be697-4962-4024-b84a-9ccbe6a5b484",
   "metadata": {},
   "outputs": [],
   "source": [
    "import pandas as pd"
   ]
  },
  {
   "cell_type": "code",
   "execution_count": 187,
   "id": "a071a497-fe14-49df-b7ba-3d6485b9792d",
   "metadata": {},
   "outputs": [],
   "source": [
    "data = {'Values': [40,50,60,70,80,90]}"
   ]
  },
  {
   "cell_type": "code",
   "execution_count": 188,
   "id": "69fa459e-c157-435f-ae7c-6246f02d88be",
   "metadata": {},
   "outputs": [],
   "source": [
    "df = pd.DataFrame(data)"
   ]
  },
  {
   "cell_type": "code",
   "execution_count": 189,
   "id": "fb010a65-12d7-4c39-8c7e-20efc11380a7",
   "metadata": {},
   "outputs": [],
   "source": [
    "mean, median, std_dev = calculate_statistics(df)"
   ]
  },
  {
   "cell_type": "code",
   "execution_count": 190,
   "id": "929f664d-67e6-4958-8a59-06c4ec9b0137",
   "metadata": {},
   "outputs": [
    {
     "name": "stdout",
     "output_type": "stream",
     "text": [
      "Mean: 65.0\n",
      "Median: 65.0\n",
      "Standard Deviation: 18.708286933869708\n"
     ]
    }
   ],
   "source": [
    "print(\"Mean:\", mean)\n",
    "print(\"Median:\", median)\n",
    "print(\"Standard Deviation:\", std_dev)"
   ]
  },
  {
   "cell_type": "markdown",
   "id": "b145c859-3436-48a9-aaa5-955ac0ec6cac",
   "metadata": {},
   "source": [
    "## Q10. Given a Pandas DataFrame df with a column 'Sales' and a column 'Date', write a Python function to create a new column 'MovingAverage' that contains the moving average of the sales for the past 7 days for each row in the DataFrame. The moving average should be calculated using a window of size 7 and should include the current day."
   ]
  },
  {
   "cell_type": "markdown",
   "id": "c59d2708-2e64-460d-b231-502b8b012881",
   "metadata": {},
   "source": [
    "Ans :- "
   ]
  },
  {
   "cell_type": "code",
   "execution_count": 191,
   "id": "8e0a74ae-8c4b-4650-bb7d-37552a42a897",
   "metadata": {},
   "outputs": [],
   "source": [
    "import pandas as pd\n",
    "def calculate_moving_average(df):\n",
    "    # Sort DataFrame by Date column\n",
    "    df = df.sort_values(by='Date')\n",
    "    # Calculate moving average using a window of size 7\n",
    "    df['MovingAverage'] = df['Sales'].rolling(window=7, min_periods=1).mean()\n",
    "    return df"
   ]
  },
  {
   "cell_type": "markdown",
   "id": "7bc6b6be-2229-49bb-96ba-fc27ef09a138",
   "metadata": {},
   "source": [
    "* Example :- "
   ]
  },
  {
   "cell_type": "code",
   "execution_count": 192,
   "id": "be518d58-e63f-4198-8edd-d963b86a94aa",
   "metadata": {},
   "outputs": [],
   "source": [
    "import pandas as pd"
   ]
  },
  {
   "cell_type": "code",
   "execution_count": 193,
   "id": "f396de72-8ea7-43d8-98c2-186a7c3add9a",
   "metadata": {},
   "outputs": [],
   "source": [
    "data = {'Date': pd.date_range(start='2024-01-01', periods=10),\n",
    "        'Sales': [100, 150, 200, 250, 300, 350, 400, 450, 500, 550]}"
   ]
  },
  {
   "cell_type": "code",
   "execution_count": 194,
   "id": "4da0d2c2-0eee-4d7a-9fb0-71087b8fab65",
   "metadata": {},
   "outputs": [],
   "source": [
    "df = pd.DataFrame(data)"
   ]
  },
  {
   "cell_type": "code",
   "execution_count": 195,
   "id": "8a2e9ec1-a397-4c27-8390-19aef823799d",
   "metadata": {},
   "outputs": [],
   "source": [
    "df_with_moving_average = calculate_moving_average(df)"
   ]
  },
  {
   "cell_type": "code",
   "execution_count": 196,
   "id": "130d37be-b31d-4ae9-97ea-a317e7158564",
   "metadata": {},
   "outputs": [
    {
     "name": "stdout",
     "output_type": "stream",
     "text": [
      "        Date  Sales  MovingAverage\n",
      "0 2024-01-01    100          100.0\n",
      "1 2024-01-02    150          125.0\n",
      "2 2024-01-03    200          150.0\n",
      "3 2024-01-04    250          175.0\n",
      "4 2024-01-05    300          200.0\n",
      "5 2024-01-06    350          225.0\n",
      "6 2024-01-07    400          250.0\n",
      "7 2024-01-08    450          300.0\n",
      "8 2024-01-09    500          350.0\n",
      "9 2024-01-10    550          400.0\n"
     ]
    }
   ],
   "source": [
    "print(df_with_moving_average)"
   ]
  },
  {
   "cell_type": "markdown",
   "id": "f318a006-6d85-45fe-bc80-2e882376897d",
   "metadata": {},
   "source": [
    "## Q11. You have a Pandas DataFrame df with a column 'Date'. Write a Python function that creates a new column 'Weekday' in the DataFrame. The 'Weekday' column should contain the weekday name (e.g.Monday, Tuesday) corresponding to each date in the 'Date' column.\n",
    "\n",
    "* **For example, if df contains the following values:**\n",
    "\n",
    "**Date**\n",
    "0 2023-01-01\n",
    "1 2023-01-02\n",
    "2 2023-01-03\n",
    "3 2023-01-04\n",
    "4 2023-01-05\n",
    "Your function should create the following DataFrame:\n",
    "\n",
    "**Date Weekday**\n",
    "0 2023-01-01 Sunday\n",
    "1 2023-01-02 Monday\n",
    "2 2023-01-03 Tuesday\n",
    "3 2023-01-04 Wednesday\n",
    "4 2023-01-05 Thursday\n",
    "The function should return the modified DataFrame."
   ]
  },
  {
   "cell_type": "markdown",
   "id": "291590d6-7dde-4264-b93c-c742872de9d2",
   "metadata": {},
   "source": [
    "Ans : -"
   ]
  },
  {
   "cell_type": "code",
   "execution_count": 211,
   "id": "00caa269-041f-4de6-ae77-9ed79815371d",
   "metadata": {},
   "outputs": [],
   "source": [
    "import pandas as pd\n",
    "\n",
    "def add_weekday_column(df):\n",
    "    df['Date'] = pd.to_datetime(df['Date'])\n",
    "    df['Weekday'] = df['Date'].dt.day_name()\n",
    "    return df"
   ]
  },
  {
   "cell_type": "markdown",
   "id": "9815fe1c-2419-4abd-9d3a-0ac287a30025",
   "metadata": {},
   "source": [
    "* Example:-"
   ]
  },
  {
   "cell_type": "code",
   "execution_count": 213,
   "id": "78600ae7-40f8-43b9-9f7f-4c2652fa6cab",
   "metadata": {},
   "outputs": [],
   "source": [
    "import pandas as pd"
   ]
  },
  {
   "cell_type": "code",
   "execution_count": 214,
   "id": "574cc2a1-e176-40f4-8f59-68940ef36257",
   "metadata": {},
   "outputs": [],
   "source": [
    "data = {'Date': pd.date_range(start='2023-01-01', periods=5)}\n",
    "df = pd.DataFrame(data)"
   ]
  },
  {
   "cell_type": "code",
   "execution_count": 215,
   "id": "5e6158a2-8e32-460b-9f4f-422856cf73d8",
   "metadata": {},
   "outputs": [],
   "source": [
    "df_with_weekday = add_weekday_column(df)"
   ]
  },
  {
   "cell_type": "code",
   "execution_count": 216,
   "id": "fc82e35f-c71f-4055-bafe-47423714f429",
   "metadata": {},
   "outputs": [
    {
     "name": "stdout",
     "output_type": "stream",
     "text": [
      "        Date    Weekday\n",
      "0 2023-01-01     Sunday\n",
      "1 2023-01-02     Monday\n",
      "2 2023-01-03    Tuesday\n",
      "3 2023-01-04  Wednesday\n",
      "4 2023-01-05   Thursday\n"
     ]
    }
   ],
   "source": [
    "print(df_with_weekday)"
   ]
  },
  {
   "cell_type": "markdown",
   "id": "5286c98a-04d3-46ff-9ae2-3e2a2a976eff",
   "metadata": {},
   "source": [
    "## Q12. Given a Pandas DataFrame df with a column 'Date' that contains timestamps, write a Python function to select all rows where the date is between '2023-01-01' and '2023-01-31'."
   ]
  },
  {
   "cell_type": "markdown",
   "id": "1a10e86a-d38f-4b0a-9d73-063acbc0b74c",
   "metadata": {},
   "source": [
    "Ans :- "
   ]
  },
  {
   "cell_type": "code",
   "execution_count": 218,
   "id": "cbe386cb-fb20-4c75-b70f-e385990fbba4",
   "metadata": {},
   "outputs": [],
   "source": [
    "import pandas as pd\n",
    "\n",
    "def select_rows_within_date_range(df):\n",
    "    df['Date'] = pd.to_datetime(df['Date'])\n",
    "    start_date = '2023-01-01'\n",
    "    end_date = '2023-01-31'\n",
    "    selected_rows = df[(df['Date'] >= start_date) & (df['Date'] <= end_date)]\n",
    "    return selected_rows"
   ]
  },
  {
   "cell_type": "markdown",
   "id": "e2f34fc3-34eb-4e10-abd7-c6805008c1c4",
   "metadata": {},
   "source": [
    "* Example :-"
   ]
  },
  {
   "cell_type": "code",
   "execution_count": 219,
   "id": "dbd9a8e7-695e-4028-930c-103005b739e3",
   "metadata": {},
   "outputs": [],
   "source": [
    "import pandas as pd"
   ]
  },
  {
   "cell_type": "code",
   "execution_count": 220,
   "id": "379a7e85-6b3c-41a3-a698-0fc765817dba",
   "metadata": {},
   "outputs": [],
   "source": [
    "data = {'Date': pd.date_range(start='2023-01-01', end='2023-02-28')}\n",
    "df = pd.DataFrame(data)"
   ]
  },
  {
   "cell_type": "code",
   "execution_count": 221,
   "id": "6cc960fb-627b-44ff-92ed-3958c72298bc",
   "metadata": {},
   "outputs": [],
   "source": [
    "selected_rows = select_rows_within_date_range(df)"
   ]
  },
  {
   "cell_type": "code",
   "execution_count": 222,
   "id": "56eb9b78-90cc-4fdf-8bc0-03821cab8b12",
   "metadata": {},
   "outputs": [
    {
     "name": "stdout",
     "output_type": "stream",
     "text": [
      "         Date\n",
      "0  2023-01-01\n",
      "1  2023-01-02\n",
      "2  2023-01-03\n",
      "3  2023-01-04\n",
      "4  2023-01-05\n",
      "5  2023-01-06\n",
      "6  2023-01-07\n",
      "7  2023-01-08\n",
      "8  2023-01-09\n",
      "9  2023-01-10\n",
      "10 2023-01-11\n",
      "11 2023-01-12\n",
      "12 2023-01-13\n",
      "13 2023-01-14\n",
      "14 2023-01-15\n",
      "15 2023-01-16\n",
      "16 2023-01-17\n",
      "17 2023-01-18\n",
      "18 2023-01-19\n",
      "19 2023-01-20\n",
      "20 2023-01-21\n",
      "21 2023-01-22\n",
      "22 2023-01-23\n",
      "23 2023-01-24\n",
      "24 2023-01-25\n",
      "25 2023-01-26\n",
      "26 2023-01-27\n",
      "27 2023-01-28\n",
      "28 2023-01-29\n",
      "29 2023-01-30\n",
      "30 2023-01-31\n"
     ]
    }
   ],
   "source": [
    "print(selected_rows)"
   ]
  },
  {
   "cell_type": "markdown",
   "id": "4be0359a-7122-487b-9423-64abad9c3c77",
   "metadata": {},
   "source": [
    "## Q13. To use the basic functions of pandas, what is the first and foremost necessary library that needs to be imported?"
   ]
  },
  {
   "cell_type": "markdown",
   "id": "bb2b8af7-f5af-439c-8193-fcb8b27673b5",
   "metadata": {},
   "source": [
    "Ans :- "
   ]
  },
  {
   "cell_type": "markdown",
   "id": "8b74794e-2461-429b-af0e-ef40eb9fb768",
   "metadata": {},
   "source": [
    "* The first and foremost necessary library that needs to be imported to use the basic functions of pandas is pandas itself."
   ]
  },
  {
   "cell_type": "code",
   "execution_count": 224,
   "id": "6f30fd64-0c6c-4205-8761-dede8ae82d14",
   "metadata": {},
   "outputs": [],
   "source": [
    "import pandas as pd "
   ]
  },
  {
   "cell_type": "code",
   "execution_count": null,
   "id": "094d918b-347f-4b36-976b-aa411ed7a384",
   "metadata": {},
   "outputs": [],
   "source": []
  }
 ],
 "metadata": {
  "kernelspec": {
   "display_name": "Python 3 (ipykernel)",
   "language": "python",
   "name": "python3"
  },
  "language_info": {
   "codemirror_mode": {
    "name": "ipython",
    "version": 3
   },
   "file_extension": ".py",
   "mimetype": "text/x-python",
   "name": "python",
   "nbconvert_exporter": "python",
   "pygments_lexer": "ipython3",
   "version": "3.10.8"
  }
 },
 "nbformat": 4,
 "nbformat_minor": 5
}
